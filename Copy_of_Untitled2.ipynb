{
  "nbformat": 4,
  "nbformat_minor": 0,
  "metadata": {
    "colab": {
      "name": "Copy of Untitled2.ipynb",
      "provenance": [],
      "authorship_tag": "ABX9TyMl3IzhhplJdHj8qwABOocE",
      "include_colab_link": true
    },
    "kernelspec": {
      "name": "python3",
      "display_name": "Python 3"
    }
  },
  "cells": [
    {
      "cell_type": "markdown",
      "metadata": {
        "id": "view-in-github",
        "colab_type": "text"
      },
      "source": [
        "<a href=\"https://colab.research.google.com/github/amirhosseingholami90/Battery/blob/master/Copy_of_Untitled2.ipynb\" target=\"_parent\"><img src=\"https://colab.research.google.com/assets/colab-badge.svg\" alt=\"Open In Colab\"/></a>"
      ]
    },
    {
      "cell_type": "code",
      "metadata": {
        "colab": {
          "base_uri": "https://localhost:8080/"
        },
        "id": "6YTfxa-DfDwL",
        "outputId": "2952bf59-29fd-4194-9cec-3447b5d12fb0"
      },
      "source": [
        "# Polynomial Regression\r\n",
        "\r\n",
        "# Importing the libraries\r\n",
        "import numpy as np\r\n",
        "import matplotlib.pyplot as plt\r\n",
        "import pandas as pd\r\n",
        "\r\n",
        "# Importing the dataset\r\n",
        "dataset = pd.read_csv('data_reg.csv')\r\n",
        "X = dataset.iloc[:, 0:6].values\r\n",
        "y = dataset.iloc[:, 6].values\r\n",
        "\r\n",
        "print(dataset.shape)\r\n",
        "print(X.shape)\r\n",
        "print(y.shape)\r\n",
        "\r\n",
        "# Splitting the dataset into the Training set and Test set\r\n",
        "\"\"\"from sklearn.cross_validation import train_test_split\r\n",
        "X_train, X_test, y_train, y_test = train_test_split(X, y, test_size = 0.2, random_state = 0)\"\"\"\r\n",
        "\r\n",
        "# Feature Scaling\r\n",
        "\"\"\"from sklearn.preprocessing import StandardScaler\r\n",
        "sc_X = StandardScaler()\r\n",
        "X_train = sc_X.fit_transform(X_train)\r\n",
        "X_test = sc_X.transform(X_test)\"\"\"\r\n",
        "\r\n",
        "# Fitting Linear Regression to the dataset\r\n",
        "from sklearn.linear_model import LinearRegression\r\n",
        "lin_reg = LinearRegression()\r\n",
        "lin_reg.fit(X, y)\r\n",
        "\r\n",
        "# Fitting Polynomial Regression to the dataset\r\n",
        "from sklearn.preprocessing import PolynomialFeatures\r\n",
        "poly_reg = PolynomialFeatures(degree = 4)\r\n",
        "X_poly = poly_reg.fit_transform(X)\r\n",
        "poly_reg.fit(X_poly, y)\r\n",
        "lin_reg_2 = LinearRegression()\r\n",
        "lin_reg_2.fit(X_poly, y)\r\n"
      ],
      "execution_count": null,
      "outputs": [
        {
          "output_type": "stream",
          "text": [
            "(119, 7)\n",
            "(119, 6)\n",
            "(119,)\n"
          ],
          "name": "stdout"
        },
        {
          "output_type": "execute_result",
          "data": {
            "text/plain": [
              "LinearRegression(copy_X=True, fit_intercept=True, n_jobs=None, normalize=False)"
            ]
          },
          "metadata": {
            "tags": []
          },
          "execution_count": 19
        }
      ]
    },
    {
      "cell_type": "code",
      "metadata": {
        "colab": {
          "base_uri": "https://localhost:8080/",
          "height": 229
        },
        "id": "27pjNx4MfOlt",
        "outputId": "9efe03e2-b315-4b3d-ddcf-57b88d211677"
      },
      "source": [
        "print(X.shape)\r\n",
        "print(y.shape)\r\n",
        "# Visualising the Linear Regression results\r\n",
        "plt.scatter(X[:,1], y, color = 'red')\r\n",
        "plt.plot(X, lin_reg.predict(X), color = 'blue')\r\n",
        "plt.title('Truth or Bluff (Linear Regression)')\r\n",
        "plt.xlabel('Position level')\r\n",
        "plt.ylabel('Salary')\r\n",
        "plt.show()\r\n",
        "\r\n",
        "# Visualising the Polynomial Regression results\r\n",
        "plt.scatter(X[:,1], y, color = 'red')\r\n",
        "plt.plot(X, lin_reg_2.predict(poly_reg.fit_transform(X)), color = 'blue')\r\n",
        "plt.title('Truth or Bluff (Polynomial Regression)')\r\n",
        "plt.xlabel('Position level')\r\n",
        "plt.ylabel('Salary')\r\n",
        "plt.show()\r\n",
        "\r\n",
        "# Visualising the Polynomial Regression results (for higher resolution and smoother curve)\r\n",
        "# X_grid = np.arange(min(X[:,0:2]), max(X[:,0:2]), 0.1)\r\n",
        "# X_grid = X_grid.reshape((len(X_grid), 1))\r\n",
        "# plt.scatter(X[:,1], y, color = 'red')\r\n",
        "# plt.plot(X_grid, lin_reg_2.predict(poly_reg.fit_transform(X_grid)), color = 'blue')\r\n",
        "# plt.title('Truth or Bluff (Polynomial Regression)')\r\n",
        "# plt.xlabel('Position level')\r\n",
        "# plt.ylabel('Salary')\r\n",
        "# plt.show()\r\n",
        "\r\n",
        "# Predicting a new result with Linear Regression\r\n",
        "unseen_data = [[300,17,70,600,15,50]]\r\n",
        "print(X[0])\r\n",
        "res1 = lin_reg.predict(unseen_data)\r\n",
        "print(res1)\r\n",
        "\r\n",
        "# Predicting a new result with Polynomial Regression\r\n",
        "res2 = lin_reg_2.predict(poly_reg.fit_transform(unseen_data))\r\n",
        "print(res2)"
      ],
      "execution_count": null,
      "outputs": [
        {
          "output_type": "error",
          "ename": "NameError",
          "evalue": "ignored",
          "traceback": [
            "\u001b[0;31m---------------------------------------------------------------------------\u001b[0m",
            "\u001b[0;31mNameError\u001b[0m                                 Traceback (most recent call last)",
            "\u001b[0;32m<ipython-input-1-369b85f50535>\u001b[0m in \u001b[0;36m<module>\u001b[0;34m()\u001b[0m\n\u001b[0;32m----> 1\u001b[0;31m \u001b[0mprint\u001b[0m\u001b[0;34m(\u001b[0m\u001b[0mX\u001b[0m\u001b[0;34m.\u001b[0m\u001b[0mshape\u001b[0m\u001b[0;34m)\u001b[0m\u001b[0;34m\u001b[0m\u001b[0;34m\u001b[0m\u001b[0m\n\u001b[0m\u001b[1;32m      2\u001b[0m \u001b[0mprint\u001b[0m\u001b[0;34m(\u001b[0m\u001b[0my\u001b[0m\u001b[0;34m.\u001b[0m\u001b[0mshape\u001b[0m\u001b[0;34m)\u001b[0m\u001b[0;34m\u001b[0m\u001b[0;34m\u001b[0m\u001b[0m\n\u001b[1;32m      3\u001b[0m \u001b[0;31m# Visualising the Linear Regression results\u001b[0m\u001b[0;34m\u001b[0m\u001b[0;34m\u001b[0m\u001b[0;34m\u001b[0m\u001b[0m\n\u001b[1;32m      4\u001b[0m \u001b[0mplt\u001b[0m\u001b[0;34m.\u001b[0m\u001b[0mscatter\u001b[0m\u001b[0;34m(\u001b[0m\u001b[0mX\u001b[0m\u001b[0;34m[\u001b[0m\u001b[0;34m:\u001b[0m\u001b[0;34m,\u001b[0m\u001b[0;36m1\u001b[0m\u001b[0;34m]\u001b[0m\u001b[0;34m,\u001b[0m \u001b[0my\u001b[0m\u001b[0;34m,\u001b[0m \u001b[0mcolor\u001b[0m \u001b[0;34m=\u001b[0m \u001b[0;34m'red'\u001b[0m\u001b[0;34m)\u001b[0m\u001b[0;34m\u001b[0m\u001b[0;34m\u001b[0m\u001b[0m\n\u001b[1;32m      5\u001b[0m \u001b[0mplt\u001b[0m\u001b[0;34m.\u001b[0m\u001b[0mplot\u001b[0m\u001b[0;34m(\u001b[0m\u001b[0mX\u001b[0m\u001b[0;34m,\u001b[0m \u001b[0mlin_reg\u001b[0m\u001b[0;34m.\u001b[0m\u001b[0mpredict\u001b[0m\u001b[0;34m(\u001b[0m\u001b[0mX\u001b[0m\u001b[0;34m)\u001b[0m\u001b[0;34m,\u001b[0m \u001b[0mcolor\u001b[0m \u001b[0;34m=\u001b[0m \u001b[0;34m'blue'\u001b[0m\u001b[0;34m)\u001b[0m\u001b[0;34m\u001b[0m\u001b[0;34m\u001b[0m\u001b[0m\n",
            "\u001b[0;31mNameError\u001b[0m: name 'X' is not defined"
          ]
        }
      ]
    },
    {
      "cell_type": "code",
      "metadata": {
        "id": "vutBsQpak4xp"
      },
      "source": [
        ""
      ],
      "execution_count": null,
      "outputs": []
    }
  ]
}